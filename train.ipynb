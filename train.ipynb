{
 "cells": [
  {
   "cell_type": "code",
   "execution_count": 9,
   "metadata": {},
   "outputs": [],
   "source": [
    "from sklearn.model_selection import train_test_split\n",
    "from sklearn.metrics import mean_absolute_error\n",
    "\n",
    "from catboost import CatBoostRegressor\n",
    "\n",
    "import pandas as pd\n",
    "import optuna"
   ]
  },
  {
   "cell_type": "code",
   "execution_count": 10,
   "metadata": {},
   "outputs": [],
   "source": [
    "df = pd.read_csv('train_preprocessed.csv', index_col=False)"
   ]
  },
  {
   "cell_type": "code",
   "execution_count": 11,
   "metadata": {},
   "outputs": [],
   "source": [
    "train_set, test_set = train_test_split(df, test_size=0.2, random_state=42)\n",
    "\n",
    "y_train = train_set['price']\n",
    "y_test = test_set['price'] \n",
    "\n",
    "X_train = train_set.drop('price', axis=1)\n",
    "X_test = test_set.drop('price', axis=1)"
   ]
  },
  {
   "cell_type": "code",
   "execution_count": 12,
   "metadata": {},
   "outputs": [],
   "source": [
    "def objective(trial):\n",
    "    params = {\n",
    "        \"iterations\": trial.suggest_int(\"iterations\", 3000, 12000),\n",
    "        \"learning_rate\": trial.suggest_float(\"learning_rate\", 1e-3, 0.1, log=True),\n",
    "        \"depth\": trial.suggest_int(\"depth\", 1, 12),\n",
    "        \"subsample\": trial.suggest_float(\"subsample\", 0.05, 1.0),\n",
    "        \"min_data_in_leaf\": trial.suggest_int(\"min_data_in_leaf\", 1, 500),\n",
    "        \"max_bin\": trial.suggest_int(\"max_bin\", 1, 200),\n",
    "        'l2_leaf_reg': trial.suggest_float('l2_leaf_reg', 1, 10),\n",
    "        \"bagging_temperature\": trial.suggest_int(\"bagging_temperature\", 1, 20),\n",
    "        \"rsm\": trial.suggest_float(\"rsm\", 0.1, 1.0)\n",
    "    }\n",
    "\n",
    "    model = CatBoostRegressor(**params, silent=True, loss_function=\"MAE\", boost_from_average=True)\n",
    "    model.fit(X_train, y_train)\n",
    "    predictions = model.predict(X_test)\n",
    "    mae = mean_absolute_error(y_test, predictions)\n",
    "    return mae"
   ]
  },
  {
   "cell_type": "code",
   "execution_count": 13,
   "metadata": {},
   "outputs": [
    {
     "name": "stderr",
     "output_type": "stream",
     "text": [
      "[I 2024-03-15 09:38:40,844] A new study created in memory with name: no-name-86261941-c161-45dc-a173-846d75dd0291\n"
     ]
    },
    {
     "name": "stderr",
     "output_type": "stream",
     "text": [
      "[I 2024-03-15 09:39:36,075] Trial 0 finished with value: 138939.70111483155 and parameters: {'iterations': 4151, 'learning_rate': 0.0011573083735205115, 'depth': 8, 'subsample': 0.3438912300284733, 'min_data_in_leaf': 163, 'max_bin': 154, 'l2_leaf_reg': 5.282326711543188, 'bagging_temperature': 9, 'rsm': 0.2407146632901481}. Best is trial 0 with value: 138939.70111483155.\n",
      "[I 2024-03-15 09:39:59,889] Trial 1 finished with value: 134522.15649909247 and parameters: {'iterations': 3114, 'learning_rate': 0.003650831346965866, 'depth': 5, 'subsample': 0.3335760630959645, 'min_data_in_leaf': 150, 'max_bin': 186, 'l2_leaf_reg': 6.6121072716092355, 'bagging_temperature': 1, 'rsm': 0.7149959424400893}. Best is trial 1 with value: 134522.15649909247.\n",
      "[I 2024-03-15 09:42:11,475] Trial 2 finished with value: 96034.58866704766 and parameters: {'iterations': 10492, 'learning_rate': 0.015365178995429064, 'depth': 7, 'subsample': 0.900450746109598, 'min_data_in_leaf': 214, 'max_bin': 72, 'l2_leaf_reg': 9.12400303940721, 'bagging_temperature': 2, 'rsm': 0.6805407665159185}. Best is trial 2 with value: 96034.58866704766.\n",
      "[I 2024-03-15 09:44:10,654] Trial 3 finished with value: 125199.95256767745 and parameters: {'iterations': 5935, 'learning_rate': 0.0010823920964219004, 'depth': 9, 'subsample': 0.8658697317100476, 'min_data_in_leaf': 332, 'max_bin': 152, 'l2_leaf_reg': 6.620072179279433, 'bagging_temperature': 11, 'rsm': 0.4755439611226282}. Best is trial 2 with value: 96034.58866704766.\n",
      "[I 2024-03-15 09:45:38,155] Trial 4 finished with value: 100865.0793857103 and parameters: {'iterations': 11522, 'learning_rate': 0.01691461986885035, 'depth': 5, 'subsample': 0.3908431736508465, 'min_data_in_leaf': 36, 'max_bin': 102, 'l2_leaf_reg': 4.6785147477327715, 'bagging_temperature': 8, 'rsm': 0.22482142185105985}. Best is trial 2 with value: 96034.58866704766.\n",
      "[I 2024-03-15 09:46:11,717] Trial 5 finished with value: 218190.87888220782 and parameters: {'iterations': 3069, 'learning_rate': 0.0039520187610881, 'depth': 7, 'subsample': 0.15810835513012406, 'min_data_in_leaf': 387, 'max_bin': 1, 'l2_leaf_reg': 4.843079305370212, 'bagging_temperature': 13, 'rsm': 0.9670610682180454}. Best is trial 2 with value: 96034.58866704766.\n",
      "[I 2024-03-15 09:48:22,760] Trial 6 finished with value: 95528.47081994236 and parameters: {'iterations': 6839, 'learning_rate': 0.027198483028262374, 'depth': 9, 'subsample': 0.6802274689997226, 'min_data_in_leaf': 315, 'max_bin': 148, 'l2_leaf_reg': 4.91625139114374, 'bagging_temperature': 15, 'rsm': 0.5937808196533991}. Best is trial 6 with value: 95528.47081994236.\n",
      "[I 2024-03-15 09:48:41,820] Trial 7 finished with value: 223040.3946772692 and parameters: {'iterations': 4596, 'learning_rate': 0.008999495556914885, 'depth': 1, 'subsample': 0.2853180436701314, 'min_data_in_leaf': 172, 'max_bin': 152, 'l2_leaf_reg': 5.835288704550827, 'bagging_temperature': 19, 'rsm': 0.5501155127685874}. Best is trial 6 with value: 95528.47081994236.\n",
      "[I 2024-03-15 09:49:15,722] Trial 8 finished with value: 129240.68459746467 and parameters: {'iterations': 5703, 'learning_rate': 0.00476622448555422, 'depth': 4, 'subsample': 0.1963562746841344, 'min_data_in_leaf': 451, 'max_bin': 27, 'l2_leaf_reg': 7.188879122581624, 'bagging_temperature': 14, 'rsm': 0.37607662068568315}. Best is trial 6 with value: 95528.47081994236.\n",
      "[I 2024-03-15 09:50:03,582] Trial 9 finished with value: 99948.2813632089 and parameters: {'iterations': 5029, 'learning_rate': 0.02054427156547451, 'depth': 6, 'subsample': 0.5879059050094145, 'min_data_in_leaf': 205, 'max_bin': 146, 'l2_leaf_reg': 8.008390427840926, 'bagging_temperature': 19, 'rsm': 0.4047841983477668}. Best is trial 6 with value: 95528.47081994236.\n"
     ]
    }
   ],
   "source": [
    "study = optuna.create_study(direction='minimize')\n",
    "study.optimize(objective, n_trials=10)"
   ]
  },
  {
   "cell_type": "code",
   "execution_count": 23,
   "metadata": {},
   "outputs": [],
   "source": [
    "params = study.best_params"
   ]
  },
  {
   "cell_type": "code",
   "execution_count": 24,
   "metadata": {},
   "outputs": [
    {
     "data": {
      "text/plain": [
       "<catboost.core.CatBoostRegressor at 0x15fe36bbc20>"
      ]
     },
     "execution_count": 24,
     "metadata": {},
     "output_type": "execute_result"
    }
   ],
   "source": [
    "model = CatBoostRegressor(**params, silent=True, loss_function='MAE', boost_from_average=True)\n",
    "\n",
    "model.fit(X_train, y_train)"
   ]
  },
  {
   "cell_type": "code",
   "execution_count": 25,
   "metadata": {},
   "outputs": [
    {
     "data": {
      "text/plain": [
       "95528.47081994236"
      ]
     },
     "execution_count": 25,
     "metadata": {},
     "output_type": "execute_result"
    }
   ],
   "source": [
    "pred = model.predict(X_test)\n",
    "\n",
    "mean_absolute_error(y_test, pred)"
   ]
  },
  {
   "cell_type": "code",
   "execution_count": 26,
   "metadata": {},
   "outputs": [],
   "source": [
    "df = pd.read_csv('train_preprocessed.csv', index_col=False)\n",
    "y = df['price']\n",
    "df.drop(['price'], inplace=True, axis=1)\n",
    "X = df"
   ]
  },
  {
   "cell_type": "code",
   "execution_count": 27,
   "metadata": {},
   "outputs": [
    {
     "data": {
      "text/plain": [
       "<catboost.core.CatBoostRegressor at 0x15fd2a8cfe0>"
      ]
     },
     "execution_count": 27,
     "metadata": {},
     "output_type": "execute_result"
    }
   ],
   "source": [
    "model = CatBoostRegressor(**params, silent=True, loss_function='MAE', boost_from_average=True)\n",
    "\n",
    "model.fit(X, y)"
   ]
  },
  {
   "cell_type": "code",
   "execution_count": 28,
   "metadata": {},
   "outputs": [],
   "source": [
    "test = pd.read_csv('test_preprocessed.csv', index_col=False)\n",
    "sub = pd.DataFrame({'id': test.index})\n",
    "test.drop(['id'], inplace=True, axis=1)"
   ]
  },
  {
   "cell_type": "code",
   "execution_count": 29,
   "metadata": {},
   "outputs": [],
   "source": [
    "preds = model.predict(test)\n",
    "sub['price'] = preds\n",
    "sub.to_csv('submission.csv', index=False)"
   ]
  }
 ],
 "metadata": {
  "kernelspec": {
   "display_name": "Python 3 (ipykernel)",
   "language": "python",
   "name": "python3"
  },
  "language_info": {
   "codemirror_mode": {
    "name": "ipython",
    "version": 3
   },
   "file_extension": ".py",
   "mimetype": "text/x-python",
   "name": "python",
   "nbconvert_exporter": "python",
   "pygments_lexer": "ipython3",
   "version": "3.12.1"
  }
 },
 "nbformat": 4,
 "nbformat_minor": 4
}
